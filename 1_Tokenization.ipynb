{
 "cells": [
  {
   "cell_type": "markdown",
   "id": "45922380",
   "metadata": {},
   "source": [
    "## Tokeinzation"
   ]
  },
  {
   "cell_type": "code",
   "execution_count": 76,
   "id": "f502ad7e",
   "metadata": {},
   "outputs": [
    {
     "name": "stderr",
     "output_type": "stream",
     "text": [
      "[nltk_data] Downloading package punkt_tab to\n",
      "[nltk_data]     C:\\Users\\GOURAV\\AppData\\Roaming\\nltk_data...\n",
      "[nltk_data]   Package punkt_tab is already up-to-date!\n"
     ]
    },
    {
     "data": {
      "text/plain": [
       "True"
      ]
     },
     "execution_count": 76,
     "metadata": {},
     "output_type": "execute_result"
    }
   ],
   "source": [
    "import nltk\n",
    "nltk.download('punkt_tab')"
   ]
  },
  {
   "cell_type": "code",
   "execution_count": 77,
   "id": "aa07eab8",
   "metadata": {},
   "outputs": [
    {
     "name": "stdout",
     "output_type": "stream",
     "text": [
      "Hello guys, my name is gourav.\n",
      "Im a student! i play keyboard's. \n"
     ]
    }
   ],
   "source": [
    "corpus = \"\"\"Hello guys, my name is gourav.\n",
    "Im a student! i play keyboard's. \"\"\"\n",
    "print(corpus)"
   ]
  },
  {
   "cell_type": "code",
   "execution_count": 78,
   "id": "2f2bc0f5",
   "metadata": {},
   "outputs": [],
   "source": [
    "## Tokenization\n",
    "## Sentence --> Paragraph\n",
    "from nltk.tokenize import sent_tokenize"
   ]
  },
  {
   "cell_type": "code",
   "execution_count": 79,
   "id": "d5cdbad8",
   "metadata": {},
   "outputs": [
    {
     "name": "stdout",
     "output_type": "stream",
     "text": [
      "['Hello guys, my name is gourav.', 'Im a student!', \"i play keyboard's.\"]\n"
     ]
    }
   ],
   "source": [
    "documents = sent_tokenize(corpus)\n",
    "print(documents)"
   ]
  },
  {
   "cell_type": "code",
   "execution_count": 80,
   "id": "a35008ea",
   "metadata": {},
   "outputs": [
    {
     "name": "stdout",
     "output_type": "stream",
     "text": [
      "Hello guys, my name is gourav.\n",
      "Im a student!\n",
      "i play keyboard's.\n"
     ]
    }
   ],
   "source": [
    "for sentence in documents:\n",
    "    print(sentence)"
   ]
  },
  {
   "cell_type": "markdown",
   "id": "5325ed61",
   "metadata": {},
   "source": [
    "Tokenize\n",
    "\n",
    "paragraph -> words\n",
    "sentence -> words"
   ]
  },
  {
   "cell_type": "code",
   "execution_count": 81,
   "id": "d33991bf",
   "metadata": {},
   "outputs": [],
   "source": [
    "from nltk.tokenize import word_tokenize"
   ]
  },
  {
   "cell_type": "code",
   "execution_count": 82,
   "id": "11c2b87a",
   "metadata": {},
   "outputs": [
    {
     "name": "stdout",
     "output_type": "stream",
     "text": [
      "['Hello', 'guys', ',', 'my', 'name', 'is', 'gourav', '.', 'Im', 'a', 'student', '!', 'i', 'play', 'keyboard', \"'s\", '.']\n"
     ]
    }
   ],
   "source": [
    "words = word_tokenize(corpus)\n",
    "print(words)"
   ]
  },
  {
   "cell_type": "code",
   "execution_count": 83,
   "id": "fd5e1ae0",
   "metadata": {},
   "outputs": [
    {
     "name": "stdout",
     "output_type": "stream",
     "text": [
      "Hello\n",
      "guys\n",
      ",\n",
      "my\n",
      "name\n",
      "is\n",
      "gourav\n",
      ".\n",
      "Im\n",
      "a\n",
      "student\n",
      "!\n",
      "i\n",
      "play\n",
      "keyboard\n",
      "'s\n",
      ".\n"
     ]
    }
   ],
   "source": [
    "for word in words:\n",
    "    print(word)"
   ]
  },
  {
   "cell_type": "code",
   "execution_count": null,
   "id": "c7dcaa55",
   "metadata": {},
   "outputs": [],
   "source": [
    "from nltk.tokenize import wordpunct_tokenize    ## splits even Apostrophe "
   ]
  },
  {
   "cell_type": "code",
   "execution_count": 85,
   "id": "b5f69ccb",
   "metadata": {},
   "outputs": [
    {
     "data": {
      "text/plain": [
       "['Hello',\n",
       " 'guys',\n",
       " ',',\n",
       " 'my',\n",
       " 'name',\n",
       " 'is',\n",
       " 'gourav',\n",
       " '.',\n",
       " 'Im',\n",
       " 'a',\n",
       " 'student',\n",
       " '!',\n",
       " 'i',\n",
       " 'play',\n",
       " 'keyboard',\n",
       " \"'\",\n",
       " 's',\n",
       " '.']"
      ]
     },
     "execution_count": 85,
     "metadata": {},
     "output_type": "execute_result"
    }
   ],
   "source": [
    "punct_word = wordpunct_tokenize(corpus)\n",
    "punct_word"
   ]
  },
  {
   "cell_type": "code",
   "execution_count": 87,
   "id": "c7333823",
   "metadata": {},
   "outputs": [],
   "source": [
    "from nltk.tokenize import TreebankWordTokenizer"
   ]
  },
  {
   "cell_type": "code",
   "execution_count": 88,
   "id": "549809a0",
   "metadata": {},
   "outputs": [],
   "source": [
    "tokenizer = TreebankWordTokenizer()"
   ]
  },
  {
   "cell_type": "code",
   "execution_count": 89,
   "id": "5bfae42d",
   "metadata": {},
   "outputs": [
    {
     "data": {
      "text/plain": [
       "['Hello',\n",
       " 'guys',\n",
       " ',',\n",
       " 'my',\n",
       " 'name',\n",
       " 'is',\n",
       " 'gourav.',\n",
       " 'Im',\n",
       " 'a',\n",
       " 'student',\n",
       " '!',\n",
       " 'i',\n",
       " 'play',\n",
       " 'keyboard',\n",
       " \"'s\",\n",
       " '.']"
      ]
     },
     "execution_count": 89,
     "metadata": {},
     "output_type": "execute_result"
    }
   ],
   "source": [
    "tokenizer.tokenize(corpus)"
   ]
  },
  {
   "cell_type": "code",
   "execution_count": null,
   "id": "c25bb4c6",
   "metadata": {},
   "outputs": [],
   "source": []
  },
  {
   "cell_type": "code",
   "execution_count": null,
   "id": "a51d86d9",
   "metadata": {},
   "outputs": [],
   "source": []
  },
  {
   "cell_type": "code",
   "execution_count": null,
   "id": "449410be",
   "metadata": {},
   "outputs": [],
   "source": []
  }
 ],
 "metadata": {
  "kernelspec": {
   "display_name": "Python 3",
   "language": "python",
   "name": "python3"
  },
  "language_info": {
   "codemirror_mode": {
    "name": "ipython",
    "version": 3
   },
   "file_extension": ".py",
   "mimetype": "text/x-python",
   "name": "python",
   "nbconvert_exporter": "python",
   "pygments_lexer": "ipython3",
   "version": "3.12.7"
  }
 },
 "nbformat": 4,
 "nbformat_minor": 5
}
