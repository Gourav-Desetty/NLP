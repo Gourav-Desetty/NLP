{
 "cells": [
  {
   "cell_type": "markdown",
   "id": "3351aa01",
   "metadata": {},
   "source": [
    "# Stemming"
   ]
  },
  {
   "cell_type": "code",
   "execution_count": 1,
   "id": "8e24c4f5",
   "metadata": {},
   "outputs": [],
   "source": [
    "word_examples = [\"running\", \"runs\", \"runner\", \"jumped\", \"beautiful\", \"fields\", \"activities\", \"dogs\"]"
   ]
  },
  {
   "cell_type": "markdown",
   "id": "e02247be",
   "metadata": {},
   "source": [
    "### Porter Stemming"
   ]
  },
  {
   "cell_type": "code",
   "execution_count": 2,
   "id": "c86dc54e",
   "metadata": {},
   "outputs": [],
   "source": [
    "from nltk.stem import PorterStemmer"
   ]
  },
  {
   "cell_type": "code",
   "execution_count": 3,
   "id": "4036e2f3",
   "metadata": {},
   "outputs": [],
   "source": [
    "stemming = PorterStemmer()"
   ]
  },
  {
   "cell_type": "code",
   "execution_count": 4,
   "id": "bebfa440",
   "metadata": {},
   "outputs": [
    {
     "name": "stdout",
     "output_type": "stream",
     "text": [
      "running---->run\n",
      "runs---->run\n",
      "runner---->runner\n",
      "jumped---->jump\n",
      "beautiful---->beauti\n",
      "fields---->field\n",
      "activities---->activ\n",
      "dogs---->dog\n"
     ]
    }
   ],
   "source": [
    "for word in word_examples:\n",
    "    print(word +\"---->\"+stemming.stem(word))"
   ]
  },
  {
   "cell_type": "markdown",
   "id": "68ca3abe",
   "metadata": {},
   "source": [
    "### RegexpStemmer class\n",
    "\n",
    "A Regex Stemmer is a stemming algorithm that applies a set of predefined regular expression patterns to words in order to identify and remove common suffixes (and sometimes prefixes) to reduce them to their base or root form (stem). Each regex pattern specifies a rule for what to match at the end (or beginning) of a word and how to replace or remove it."
   ]
  },
  {
   "cell_type": "code",
   "execution_count": 5,
   "id": "3e6e0e5c",
   "metadata": {},
   "outputs": [],
   "source": [
    "from nltk.stem import RegexpStemmer"
   ]
  },
  {
   "cell_type": "code",
   "execution_count": 6,
   "id": "2065311b",
   "metadata": {},
   "outputs": [],
   "source": [
    "reg_stemmer = RegexpStemmer('ing$|s$|e$|able$', min=4)"
   ]
  },
  {
   "cell_type": "code",
   "execution_count": 7,
   "id": "930a0bdd",
   "metadata": {},
   "outputs": [
    {
     "data": {
      "text/plain": [
       "'eat'"
      ]
     },
     "execution_count": 7,
     "metadata": {},
     "output_type": "execute_result"
    }
   ],
   "source": [
    "reg_stemmer.stem(\"eating\")"
   ]
  },
  {
   "cell_type": "markdown",
   "id": "dada767d",
   "metadata": {},
   "source": [
    "### Snowballl stemmer"
   ]
  },
  {
   "cell_type": "code",
   "execution_count": 8,
   "id": "78c488df",
   "metadata": {},
   "outputs": [],
   "source": [
    "from nltk.stem import SnowballStemmer"
   ]
  },
  {
   "cell_type": "code",
   "execution_count": 9,
   "id": "72a7f75b",
   "metadata": {},
   "outputs": [],
   "source": [
    "snowball_stemmer = SnowballStemmer('english')"
   ]
  },
  {
   "cell_type": "code",
   "execution_count": 10,
   "id": "576ff51f",
   "metadata": {},
   "outputs": [
    {
     "name": "stdout",
     "output_type": "stream",
     "text": [
      "running ---> run\n",
      "runs ---> run\n",
      "runner ---> runner\n",
      "jumped ---> jump\n",
      "beautiful ---> beauti\n",
      "fields ---> field\n",
      "activities ---> activ\n",
      "dogs ---> dog\n"
     ]
    }
   ],
   "source": [
    "for word in word_examples:\n",
    "    print(word+\" ---> \"+snowball_stemmer.stem(word))"
   ]
  },
  {
   "cell_type": "code",
   "execution_count": 11,
   "id": "73a0283a",
   "metadata": {},
   "outputs": [
    {
     "data": {
      "text/plain": [
       "('fairli', 'sportingli')"
      ]
     },
     "execution_count": 11,
     "metadata": {},
     "output_type": "execute_result"
    }
   ],
   "source": [
    "stemming.stem(\"fairly\"), stemming.stem(\"sportingly\")"
   ]
  },
  {
   "cell_type": "code",
   "execution_count": 12,
   "id": "d8a26e70",
   "metadata": {},
   "outputs": [
    {
     "data": {
      "text/plain": [
       "('fair', 'sport')"
      ]
     },
     "execution_count": 12,
     "metadata": {},
     "output_type": "execute_result"
    }
   ],
   "source": [
    "snowball_stemmer.stem(\"fairly\"), snowball_stemmer.stem(\"sportingly\")"
   ]
  },
  {
   "cell_type": "code",
   "execution_count": 13,
   "id": "f823d4b7",
   "metadata": {},
   "outputs": [
    {
     "data": {
      "text/plain": [
       "('goe', 'goe')"
      ]
     },
     "execution_count": 13,
     "metadata": {},
     "output_type": "execute_result"
    }
   ],
   "source": [
    "stemming.stem(\"goes\"), snowball_stemmer.stem(\"goes\")"
   ]
  },
  {
   "cell_type": "code",
   "execution_count": null,
   "id": "1173eeb8",
   "metadata": {},
   "outputs": [],
   "source": []
  }
 ],
 "metadata": {
  "kernelspec": {
   "display_name": "Python 3",
   "language": "python",
   "name": "python3"
  },
  "language_info": {
   "codemirror_mode": {
    "name": "ipython",
    "version": 3
   },
   "file_extension": ".py",
   "mimetype": "text/x-python",
   "name": "python",
   "nbconvert_exporter": "python",
   "pygments_lexer": "ipython3",
   "version": "3.12.7"
  }
 },
 "nbformat": 4,
 "nbformat_minor": 5
}
