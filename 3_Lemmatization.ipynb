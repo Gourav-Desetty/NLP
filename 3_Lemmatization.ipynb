{
 "cells": [
  {
   "cell_type": "markdown",
   "id": "ae8e23b1",
   "metadata": {},
   "source": [
    "# Lematization"
   ]
  },
  {
   "cell_type": "markdown",
   "id": "5f5eef23",
   "metadata": {},
   "source": [
    "### Wordnet Lematizer\n",
    "\n",
    "A Lemmatizer is a more sophisticated and linguistically informed text normalization technique in Natural Language Processing (NLP) compared to stemming. Its primary goal is to reduce inflected forms of a word to its base or dictionary form, known as the lemma.\n",
    "\n",
    "\n",
    "It takes more time than stemming\n",
    "\n",
    "\n",
    "usecase:\n",
    "q and a,\n",
    "chatbot, text summarisation"
   ]
  },
  {
   "cell_type": "code",
   "execution_count": 1,
   "id": "81ab9422",
   "metadata": {},
   "outputs": [
    {
     "name": "stderr",
     "output_type": "stream",
     "text": [
      "[nltk_data] Downloading package wordnet to\n",
      "[nltk_data]     C:\\Users\\GOURAV\\AppData\\Roaming\\nltk_data...\n",
      "[nltk_data]   Package wordnet is already up-to-date!\n"
     ]
    },
    {
     "data": {
      "text/plain": [
       "True"
      ]
     },
     "execution_count": 1,
     "metadata": {},
     "output_type": "execute_result"
    }
   ],
   "source": [
    "import nltk\n",
    "nltk.download(\"wordnet\")"
   ]
  },
  {
   "cell_type": "code",
   "execution_count": 2,
   "id": "d7d8a825",
   "metadata": {},
   "outputs": [],
   "source": [
    "word_examples = [\"running\", \"runs\", \"runner\", \"jumped\", \"beautiful\", \"fields\", \"activities\", \"dogs\"]"
   ]
  },
  {
   "cell_type": "code",
   "execution_count": 3,
   "id": "42e4a828",
   "metadata": {},
   "outputs": [],
   "source": [
    "from nltk.stem import WordNetLemmatizer"
   ]
  },
  {
   "cell_type": "code",
   "execution_count": 4,
   "id": "d457c640",
   "metadata": {},
   "outputs": [],
   "source": [
    "lematizer = WordNetLemmatizer()"
   ]
  },
  {
   "cell_type": "code",
   "execution_count": 5,
   "id": "74a260f9",
   "metadata": {},
   "outputs": [
    {
     "data": {
      "text/plain": [
       "'go'"
      ]
     },
     "execution_count": 5,
     "metadata": {},
     "output_type": "execute_result"
    }
   ],
   "source": [
    "\"\"\"\n",
    "pos tags\n",
    "Noun- n\n",
    "verb - v\n",
    "adjective - a\n",
    "adverb - r\n",
    "\"\"\"\n",
    "\n",
    "lematizer.lemmatize(\"going\", pos='v')"
   ]
  },
  {
   "cell_type": "code",
   "execution_count": 6,
   "id": "8d8f2b76",
   "metadata": {},
   "outputs": [
    {
     "name": "stdout",
     "output_type": "stream",
     "text": [
      "running ---> running\n",
      "runs ---> run\n",
      "runner ---> runner\n",
      "jumped ---> jumped\n",
      "beautiful ---> beautiful\n",
      "fields ---> field\n",
      "activities ---> activity\n",
      "dogs ---> dog\n"
     ]
    }
   ],
   "source": [
    "for word in word_examples:\n",
    "    print(word + \" ---> \" + lematizer.lemmatize(word, pos='n'))"
   ]
  },
  {
   "cell_type": "code",
   "execution_count": 7,
   "id": "4fd6f580",
   "metadata": {},
   "outputs": [
    {
     "data": {
      "text/plain": [
       "('fairly', 'sportingly')"
      ]
     },
     "execution_count": 7,
     "metadata": {},
     "output_type": "execute_result"
    }
   ],
   "source": [
    "lematizer.lemmatize(\"fairly\", pos='r'), lematizer.lemmatize(\"sportingly\", pos='r')"
   ]
  },
  {
   "cell_type": "code",
   "execution_count": null,
   "id": "17fa0ac6",
   "metadata": {},
   "outputs": [],
   "source": []
  },
  {
   "cell_type": "code",
   "execution_count": null,
   "id": "d6353370",
   "metadata": {},
   "outputs": [],
   "source": []
  },
  {
   "cell_type": "code",
   "execution_count": null,
   "id": "3fd365de",
   "metadata": {},
   "outputs": [],
   "source": []
  },
  {
   "cell_type": "code",
   "execution_count": null,
   "id": "7216b3d8",
   "metadata": {},
   "outputs": [],
   "source": []
  },
  {
   "cell_type": "code",
   "execution_count": null,
   "id": "2d557d3e",
   "metadata": {},
   "outputs": [],
   "source": []
  },
  {
   "cell_type": "code",
   "execution_count": null,
   "id": "39ea33c2",
   "metadata": {},
   "outputs": [],
   "source": []
  }
 ],
 "metadata": {
  "kernelspec": {
   "display_name": "Python 3",
   "language": "python",
   "name": "python3"
  },
  "language_info": {
   "codemirror_mode": {
    "name": "ipython",
    "version": 3
   },
   "file_extension": ".py",
   "mimetype": "text/x-python",
   "name": "python",
   "nbconvert_exporter": "python",
   "pygments_lexer": "ipython3",
   "version": "3.12.7"
  }
 },
 "nbformat": 4,
 "nbformat_minor": 5
}
