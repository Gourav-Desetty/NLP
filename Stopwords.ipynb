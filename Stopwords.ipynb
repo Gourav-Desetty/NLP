{
 "cells": [
  {
   "cell_type": "code",
   "execution_count": 56,
   "id": "dc9dea55",
   "metadata": {},
   "outputs": [],
   "source": [
    "paragraph = \"\"\"\n",
    "The golden sun dipped below the horizon, painting the sky in fiery hues of orange and purple.\n",
    "A gentle breeze rustled through the tall grass, carrying the sweet scent of blooming wildflowers.\n",
    "In the distance, the faint melody of crickets began to hum, signaling the peaceful transition from day to night.\n",
    "Shadows stretched long and distorted across the landscape, embracing the quiet calm that settled over the world.\n",
    "It was a moment of profound tranquility, a perfect end to a perfect day.\n",
    "\"\"\""
   ]
  },
  {
   "cell_type": "code",
   "execution_count": 57,
   "id": "2f7933c6",
   "metadata": {},
   "outputs": [],
   "source": [
    "from nltk.stem import PorterStemmer"
   ]
  },
  {
   "cell_type": "code",
   "execution_count": 58,
   "id": "be5e029f",
   "metadata": {},
   "outputs": [
    {
     "name": "stderr",
     "output_type": "stream",
     "text": [
      "[nltk_data] Downloading package stopwords to\n",
      "[nltk_data]     C:\\Users\\GOURAV\\AppData\\Roaming\\nltk_data...\n",
      "[nltk_data]   Package stopwords is already up-to-date!\n"
     ]
    },
    {
     "data": {
      "text/plain": [
       "True"
      ]
     },
     "execution_count": 58,
     "metadata": {},
     "output_type": "execute_result"
    }
   ],
   "source": [
    "from nltk.corpus import stopwords\n",
    "import nltk\n",
    "nltk.download('stopwords')"
   ]
  },
  {
   "cell_type": "code",
   "execution_count": 59,
   "id": "2a66636e",
   "metadata": {},
   "outputs": [],
   "source": [
    "stop_words = set(stopwords.words('english'))"
   ]
  },
  {
   "cell_type": "code",
   "execution_count": 60,
   "id": "40363937",
   "metadata": {},
   "outputs": [],
   "source": [
    "stemmer = PorterStemmer()"
   ]
  },
  {
   "cell_type": "code",
   "execution_count": 61,
   "id": "7be4ea84",
   "metadata": {},
   "outputs": [
    {
     "data": {
      "text/plain": [
       "['\\nThe golden sun dipped below the horizon, painting the sky in fiery hues of orange and purple.',\n",
       " 'A gentle breeze rustled through the tall grass, carrying the sweet scent of blooming wildflowers.',\n",
       " 'In the distance, the faint melody of crickets began to hum, signaling the peaceful transition from day to night.',\n",
       " 'Shadows stretched long and distorted across the landscape, embracing the quiet calm that settled over the world.',\n",
       " 'It was a moment of profound tranquility, a perfect end to a perfect day.']"
      ]
     },
     "execution_count": 61,
     "metadata": {},
     "output_type": "execute_result"
    }
   ],
   "source": [
    "sentences = nltk.sent_tokenize(paragraph)\n",
    "sentences"
   ]
  },
  {
   "cell_type": "code",
   "execution_count": 62,
   "id": "17c0e255",
   "metadata": {},
   "outputs": [],
   "source": [
    "## Apply stopwords and filter and the apply stemming\n",
    "\n",
    "for i in range(len(sentences)):\n",
    "    words = nltk.word_tokenize(sentences[i])\n",
    "    words = [stemmer.stem(word) for word in words if word.lower() not in stop_words]\n",
    "    sentences[i] =\" \".join(words) ## converting all the list of words into sentences"
   ]
  },
  {
   "cell_type": "code",
   "execution_count": 63,
   "id": "89cf80fb",
   "metadata": {},
   "outputs": [
    {
     "data": {
      "text/plain": [
       "['golden sun dip horizon , paint sky fieri hue orang purpl .',\n",
       " 'gentl breez rustl tall grass , carri sweet scent bloom wildflow .',\n",
       " 'distanc , faint melodi cricket began hum , signal peac transit day night .',\n",
       " 'shadow stretch long distort across landscap , embrac quiet calm settl world .',\n",
       " 'moment profound tranquil , perfect end perfect day .']"
      ]
     },
     "execution_count": 63,
     "metadata": {},
     "output_type": "execute_result"
    }
   ],
   "source": [
    "sentences"
   ]
  },
  {
   "cell_type": "code",
   "execution_count": 64,
   "id": "6a088c37",
   "metadata": {},
   "outputs": [],
   "source": [
    "from nltk.stem import SnowballStemmer"
   ]
  },
  {
   "cell_type": "code",
   "execution_count": 65,
   "id": "b0cef289",
   "metadata": {},
   "outputs": [],
   "source": [
    "snowball_stemmer = SnowballStemmer('english')"
   ]
  },
  {
   "cell_type": "code",
   "execution_count": 66,
   "id": "2516c027",
   "metadata": {},
   "outputs": [],
   "source": [
    "for i in range(len(sentences)):\n",
    "    words = nltk.word_tokenize(sentences[i])\n",
    "    words = [snowball_stemmer.stem(word) for word in words if word.lower() not in stop_words]\n",
    "    sentences[i] =\" \".join(words) ## converting all the list of words into sentences"
   ]
  },
  {
   "cell_type": "code",
   "execution_count": 67,
   "id": "6b5f7d9b",
   "metadata": {},
   "outputs": [
    {
     "data": {
      "text/plain": [
       "['golden sun dip horizon , paint sky fieri hue orang purpl .',\n",
       " 'gentl breez rustl tall grass , carri sweet scent bloom wildflow .',\n",
       " 'distanc , faint melodi cricket began hum , signal peac transit day night .',\n",
       " 'shadow stretch long distort across landscap , embrac quiet calm settl world .',\n",
       " 'moment profound tranquil , perfect end perfect day .']"
      ]
     },
     "execution_count": 67,
     "metadata": {},
     "output_type": "execute_result"
    }
   ],
   "source": [
    "sentences"
   ]
  },
  {
   "cell_type": "code",
   "execution_count": null,
   "id": "59a76f13",
   "metadata": {},
   "outputs": [],
   "source": []
  },
  {
   "cell_type": "code",
   "execution_count": 68,
   "id": "34b2d297",
   "metadata": {},
   "outputs": [],
   "source": [
    "from nltk.stem import WordNetLemmatizer"
   ]
  },
  {
   "cell_type": "code",
   "execution_count": 69,
   "id": "cdf1240c",
   "metadata": {},
   "outputs": [],
   "source": [
    "lemmatizer = WordNetLemmatizer()"
   ]
  },
  {
   "cell_type": "code",
   "execution_count": 70,
   "id": "5207ab02",
   "metadata": {},
   "outputs": [],
   "source": [
    "for i in range(len(sentences)):\n",
    "    words = nltk.word_tokenize(sentences[i])\n",
    "    words = [lemmatizer.lemmatize(word, pos='v') for word in words if word.lower() not in stop_words]\n",
    "    sentences[i] =\" \".join(words) ## converting all the list of words into sentences"
   ]
  },
  {
   "cell_type": "code",
   "execution_count": 71,
   "id": "313e292d",
   "metadata": {},
   "outputs": [
    {
     "data": {
      "text/plain": [
       "['golden sun dip horizon , paint sky fieri hue orang purpl .',\n",
       " 'gentl breez rustl tall grass , carri sweet scent bloom wildflow .',\n",
       " 'distanc , faint melodi cricket begin hum , signal peac transit day night .',\n",
       " 'shadow stretch long distort across landscap , embrac quiet calm settl world .',\n",
       " 'moment profound tranquil , perfect end perfect day .']"
      ]
     },
     "execution_count": 71,
     "metadata": {},
     "output_type": "execute_result"
    }
   ],
   "source": [
    "sentences"
   ]
  },
  {
   "cell_type": "code",
   "execution_count": null,
   "id": "ab2cdf63",
   "metadata": {},
   "outputs": [],
   "source": []
  },
  {
   "cell_type": "code",
   "execution_count": null,
   "id": "7c0a2928",
   "metadata": {},
   "outputs": [],
   "source": []
  }
 ],
 "metadata": {
  "kernelspec": {
   "display_name": "Python 3",
   "language": "python",
   "name": "python3"
  },
  "language_info": {
   "codemirror_mode": {
    "name": "ipython",
    "version": 3
   },
   "file_extension": ".py",
   "mimetype": "text/x-python",
   "name": "python",
   "nbconvert_exporter": "python",
   "pygments_lexer": "ipython3",
   "version": "3.12.7"
  }
 },
 "nbformat": 4,
 "nbformat_minor": 5
}
